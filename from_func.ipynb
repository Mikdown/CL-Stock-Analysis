{
 "cells": [
  {
   "cell_type": "code",
   "execution_count": 9,
   "metadata": {},
   "outputs": [],
   "source": [
    "def get_symbol():  \n",
    "\n",
    "\n",
    "    for _ in range(3):\n",
    "        symbols = ['AAPL', 'AMD', 'AMZN', 'CSCO', 'META', 'MSFT', 'NFLX', 'QCOM', 'SBUX', 'TSLA']\n",
    "        symbol = str(input(\"Please enter one of the following symbols!\" + str(symbols)).upper())\n",
    "\n",
    "        if symbol in symbols:\n",
    "            print ('Right')\n",
    "            return symbol\n",
    "            break\n",
    "        else:\n",
    "            print('You have entered an invalid symboll! Please try again!')\n",
    "            pass\n",
    "\n",
    "    print(\"Function terminates after 3 invalid attempts.\")\n",
    "\n",
    "    \n",
    "        \n",
    "            \n",
    "        \n",
    "        \n",
    "\n",
    "\n",
    "\n",
    "\n",
    "def clean_data(symbol):\n",
    "    import pandas as pd\n",
    "\n",
    "    df = pd.read_csv('/Users/miked/Downloads/HistoricalData_' + symbol + '.csv')\n",
    "    df['Symbol'] = symbol\n",
    "    df['Open'] = df['Open'].str.replace(\"$\", '', regex=True).astype(float)\n",
    "    df['High'] = df['High'].str.replace(\"$\", '', regex=True).astype(float)\n",
    "    df['Low'] = df['Low'].str.replace(\"$\", '', regex=True).astype(float)\n",
    "    df['Close/Last'] = df['Close/Last'].str.replace(\"$\", '', regex=True).astype(float)\n",
    "    df.rename(columns={'Close/Last': 'Close'}, inplace=True)\n",
    "    df['Date']= pd.to_datetime(df['Date'])\n",
    "        \n",
    "    return df\n",
    "\n",
    "\n"
   ]
  },
  {
   "cell_type": "code",
   "execution_count": 17,
   "metadata": {},
   "outputs": [
    {
     "name": "stdout",
     "output_type": "stream",
     "text": [
      "          Date  Close    Volume   Open   High      Low Symbol\n",
      "437 2020-12-31  91.71  24930680  92.10  92.30  90.8700    AMD\n",
      "438 2020-12-30  92.29  25844970  90.78  92.85  90.1900    AMD\n",
      "439 2020-12-29  90.62  31748210  91.66  92.46  89.4301    AMD\n",
      "440 2020-12-28  91.60  30627300  92.93  93.14  90.8200    AMD\n",
      "441 2020-12-24  91.81  16705910  91.80  92.51  91.3100    AMD\n",
      "..         ...    ...       ...    ...    ...      ...    ...\n",
      "685 2020-01-08  47.83  53868960  47.85  48.30  47.1400    AMD\n",
      "686 2020-01-07  48.25  59935560  49.35  49.39  48.0400    AMD\n",
      "687 2020-01-06  48.39  48176290  48.02  48.86  47.8600    AMD\n",
      "688 2020-01-03  48.60  73362160  48.03  49.39  47.5400    AMD\n",
      "689 2020-01-02  49.10  80764600  46.86  49.25  46.6300    AMD\n",
      "\n",
      "[253 rows x 7 columns]\n",
      "65.59896245059288\n",
      "65.61962450592885\n"
     ]
    }
   ],
   "source": [
    "\n",
    "import pandas as pd\n",
    "import numpy as np\n",
    "import matplotlib as mpl\n",
    "from matplotlib import pyplot as plt\n",
    "\n",
    "symbols = ['AAPL', 'AMD', 'AMZN', 'CSCO', 'META', 'MSFT', 'NFLX', 'QCOM', 'SBUX', 'TSLA']\n",
    "\n",
    "symbol = input(\"Please enter one of the following symbols!\" + str(symbols) + '\\n').upper()\n",
    "\n",
    "years = ['2012', '2013', '2014', '2015', '2016', '2017', '2018', '2019', '2020', '2021', '2022']\n",
    "\n",
    "year = input(\"Please enter one of the following years!\" + str(years) + '\\n')\n",
    "next_year = int(year) + 1\n",
    "\n",
    "try:\n",
    "    df = pd.read_csv('/Users/miked/Downloads/HistoricalData_' + symbol + '.csv')\n",
    "    df['Open'] = df['Open'].str.replace(\"$\", '', regex=True).astype(float)\n",
    "    df['High'] = df['High'].str.replace(\"$\", '', regex=True).astype(float)\n",
    "    df['Low'] = df['Low'].str.replace(\"$\", '', regex=True).astype(float)\n",
    "    df['Close/Last'] = df['Close/Last'].str.replace(\"$\", '', regex=True).astype(float)\n",
    "    df.rename(columns={'Close/Last': 'Close'}, inplace=True)\n",
    "    df['Date']= pd.to_datetime(df['Date'])\n",
    "    df['Symbol'] = symbol\n",
    "    \n",
    "\n",
    "    df = df[(df['Date'] >= str(year) + \"-01-01\") & (df['Date'] < str(next_year) + \"-01-01\")]\n",
    "    print(df)\n",
    "    \n",
    "    open_avg = df['Open'].mean()\n",
    "    close_avg = df[\"Close\"].mean()\n",
    "    df['Open Avg'] = open_avg\n",
    "    df[\"Close Avg\"] = close_avg\n",
    "    \n",
    "    \n",
    "    print(open_avg)\n",
    "    print(close_avg)\n",
    "\n",
    "except FileNotFoundError:\n",
    "    print(\"You have entered an invalid symbol! Please try again.\")\n",
    "\n",
    "\n",
    "\n"
   ]
  },
  {
   "cell_type": "code",
   "execution_count": 32,
   "metadata": {},
   "outputs": [],
   "source": [
    "def plot_data():\n",
    "    from matplotlib import pyplot as plt\n",
    "    import seaborn as sbn\n",
    "    from os import major\n",
    "\n",
    "\n",
    "    open = df[\"Open\"]\n",
    "    close = df[\"Close\"]\n",
    "    date = df[\"Date\"]\n",
    "\n",
    "    plt.style.use('seaborn-v0_8-bright')\n",
    "    plt.figure(figsize= (40, 15))\n",
    "    plt.plot(date, open)\n",
    "    #plt.plot(date, df['Open Avg'])\n",
    "    #plt.plot(date, df[\"Close Avg\"])\n",
    "    plt.title(symbol)\n",
    "    plt.xlabel(\"Date\")\n",
    "    plt.ylabel(\"Open/Close\")\n",
    "    plt.grid(visible= major)\n",
    "\n",
    "    plt.show()\n",
    "\n"
   ]
  },
  {
   "cell_type": "code",
   "execution_count": 10,
   "metadata": {},
   "outputs": [
    {
     "name": "stdout",
     "output_type": "stream",
     "text": [
      "You have entered an invalid symboll! Please try again!\n",
      "You have entered an invalid symboll! Please try again!\n",
      "You have entered an invalid symboll! Please try again!\n",
      "Function terminates after 3 invalid attempts.\n"
     ]
    }
   ],
   "source": [
    "get_symbol()\n",
    "\n",
    "#df = clean_data(symbol)\n",
    "\n",
    "#plot_data()\n",
    "\n",
    "#df.head(10)\n",
    "\n"
   ]
  }
 ],
 "metadata": {
  "kernelspec": {
   "display_name": "Python 3.10.6 64-bit",
   "language": "python",
   "name": "python3"
  },
  "language_info": {
   "codemirror_mode": {
    "name": "ipython",
    "version": 3
   },
   "file_extension": ".py",
   "mimetype": "text/x-python",
   "name": "python",
   "nbconvert_exporter": "python",
   "pygments_lexer": "ipython3",
   "version": "3.10.6"
  },
  "orig_nbformat": 4,
  "vscode": {
   "interpreter": {
    "hash": "aee8b7b246df8f9039afb4144a1f6fd8d2ca17a180786b69acc140d282b71a49"
   }
  }
 },
 "nbformat": 4,
 "nbformat_minor": 2
}
