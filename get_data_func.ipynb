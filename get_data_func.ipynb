{
 "cells": [
  {
   "cell_type": "code",
   "execution_count": 28,
   "metadata": {},
   "outputs": [],
   "source": [
    "def get_data_local_csv():\n",
    "    \"\"\"\n",
    "    Request user input. Read in then clean/transform data from a local CSV file.\n",
    "\n",
    "    This function asks the user to imput a valid stock symbol from the list provided.\n",
    "    Valid symbols can be entered in lower, upper or mixed case. \n",
    "    It takes that input and reads in data from the corrosponding local .csv file. \n",
    "    It then cleans/transforms the data into a pandas dataframe.\n",
    "    The user only gets three attempts to enter a valid stock symbol from the list provided and \n",
    "    then the function terminates and returns a message.\n",
    "    If no corrosponding file is found the function terminates and returns a message.\n",
    "    \n",
    "\n",
    "    Parameters\n",
    "    ----------\n",
    "    None\n",
    "\n",
    "    Returns\n",
    "    -------\n",
    "    pandas dataframe\n",
    "\n",
    "    Examples\n",
    "    --------\n",
    "    MSFT, AAPL\n",
    "    \"\"\" \n",
    "\n",
    "    import pandas as pd\n",
    "    from datetime import date, datetime\n",
    "\n",
    "    pd.set_option('display.max_columns', 20)\n",
    "    pd.set_option('display.width', 1000)\n",
    "    \n",
    "    try: # Handles the condition of no dataframe returned (UnboundLocalError) due to no valid input after 3 attempts or file not found error.\n",
    "        try: # Handles the conditions of a either a valid or invalid input or a FileNotFound error.\n",
    "            for x in range(3): # Sets the input attempt range to 3 to avoid an infinite run condition.\n",
    "                symbols = ['AAPL', 'AMD', 'AMZN', 'CSCO', 'META', 'MSFT', 'NFLX', 'QCOM', 'SBUX', 'TSLA'] # List of valid stock symbols for input.\n",
    "                symbol = input(\"Please enter one of the following symbols!\" + str(symbols)).upper() # User input statement.\n",
    "                if symbol in symbols: # Checks for valid input.\n",
    "                    df = pd.read_csv('assets/HistoricalData_' + symbol + '.csv') # Read in data from local CSV file.\n",
    "                    df['Symbol'] = symbol # Adds the \"Symbol\" column to the dataframe.\n",
    "                    df['Open'] = df['Open'].str.replace(\"$\", '', regex=True).astype(float) # Removes the $ from the data in the column and sets type to float.\n",
    "                    df['High'] = df['High'].str.replace(\"$\", '', regex=True).astype(float) # Removes the $ from the data in the column and sets type to float.\n",
    "                    df['Low'] = df['Low'].str.replace(\"$\", '', regex=True).astype(float) # Removes the $ from the data in the column and sets type to float.\n",
    "                    df['Close/Last'] = df['Close/Last'].str.replace(\"$\", '', regex=True).astype(float) # Removes the $ from the data in the column and sets type to float.\n",
    "                    df.rename(columns={'Close/Last': 'Close'}, inplace=True) # Renames \"Close/Last\" column to \"Close\"\n",
    "                    df['Date'] = pd.to_datetime(df['Date']) # Sets \"Date\" column to type datetime.\n",
    "                    df['Year'] = df['Date'].dt.year\n",
    "                    df['Month'] = df['Date'].dt.month\n",
    "                    df['Day'] = df['Date'].dt.day\n",
    "                    df['Week Num'] = df.Date.apply(lambda x:x.isocalendar()[1])\n",
    "                    df['Day Num'] = df['Date'].dt.day_of_week\n",
    "                    df['Day Name'] = df['Date'].dt.day_name()\n",
    "                    break # Breaks loop on successful execution.\n",
    "                elif x < 2: # Checks range variable for value on unsuccessful execution.\n",
    "                    print(\"You have entered an invalid symbol! Please try again!\") \n",
    "                else: # Informs user that the function is terminating after 3 invalid entries.\n",
    "                    print(\"Function terminates after three invalid entries!\")\n",
    "                \n",
    "        except FileNotFoundError: \n",
    "            print(\"File Not Found!\")\n",
    "\n",
    "        return df # Returns pandas dataframe on successful execution.\n",
    "\n",
    "    except UnboundLocalError:\n",
    "        print(\"No dataframe returned!\")\n",
    "    "
   ]
  },
  {
   "cell_type": "code",
   "execution_count": 48,
   "metadata": {},
   "outputs": [
    {
     "name": "stdout",
     "output_type": "stream",
     "text": [
      "           Date     Close    Volume      Open      High       Low Symbol  Year  Month  Day  Week Num  Day Num   Day Name\n",
      "0    2022-09-27  224.3600   7762223  228.6300  230.6400  220.7200   NFLX  2022      9   27        39        1    Tuesday\n",
      "1    2022-09-26  224.0700   8234285  225.6000  232.7000  223.0100   NFLX  2022      9   26        39        0     Monday\n",
      "2    2022-09-23  226.4100  11207230  235.1400  236.4499  221.4300   NFLX  2022      9   23        38        4     Friday\n",
      "3    2022-09-22  237.0500  10017970  235.3500  240.5000  231.6600   NFLX  2022      9   22        38        3   Thursday\n",
      "4    2022-09-21  236.8700   9166772  242.6700  248.2999  236.6800   NFLX  2022      9   21        38        2  Wednesday\n",
      "...         ...       ...       ...       ...       ...       ...    ...   ...    ...  ...       ...      ...        ...\n",
      "2510 2012-10-04    9.5243  91437177    8.9500    9.6100    8.9443   NFLX  2012     10    4        40        3   Thursday\n",
      "2511 2012-10-03    8.9400  75872673    8.3414    8.9500    8.3214   NFLX  2012     10    3        40        2  Wednesday\n",
      "2512 2012-10-02    8.0657  21551858    8.0643    8.1843    7.9000   NFLX  2012     10    2        40        1    Tuesday\n",
      "2513 2012-10-01    8.0071  30735777    7.8000    8.0857    7.7629   NFLX  2012     10    1        40        0     Monday\n",
      "2514 2012-09-28    7.7771  15890474    7.8629    7.9729    7.7457   NFLX  2012      9   28        39        4     Friday\n",
      "\n",
      "[2515 rows x 13 columns]\n"
     ]
    }
   ],
   "source": [
    "df = get_data_local_csv()\n",
    "print(df)"
   ]
  },
  {
   "cell_type": "code",
   "execution_count": 49,
   "metadata": {},
   "outputs": [],
   "source": [
    "def filter_by_year():\n",
    "    \"\"\"\n",
    "    Requests user input. Reads in then cleans/transforms data from a local CSV file.\n",
    "\n",
    "    This function calls the get_data_local_csv() function and then asks the user to imput a valid year from the list provided. \n",
    "    It takes that input and filters the current dataframe. \n",
    "    The user only gets three attempts to enter a valid year from the list provided and \n",
    "    then the function terminates and returns a message.\n",
    "    If the datafram is not returned a message is printed.\n",
    "\n",
    "    Parameters\n",
    "    ----------\n",
    "    None\n",
    "\n",
    "    Returns\n",
    "    -------\n",
    "    pandas dataframe\n",
    "\n",
    "    Examples\n",
    "    --------\n",
    "    MSFT, AAPL\n",
    "    \"\"\"\n",
    "\n",
    "    df = get_data_local_csv()\n",
    "    try:\n",
    "        for x in range(3): # Sets the input attempt range to 3 to avoid an infinite run condition.\n",
    "            years = ['2012', '2103', '2014', '2015', '2016', '2017', '2018', '2019', '2020', '2021', '2022'] # List of valid years for input.\n",
    "            year = input(\"Please enter one of the following years!\" + str(years)) # User input statement.\n",
    "            if year in years: # Checks for valid input.\n",
    "                is_year = df[\"Year\"] == int(year) # Filter dataframe to only requested year.\n",
    "                df_yr = df[is_year]\n",
    "                break # Breaks loop on successful execution.\n",
    "            elif x < 2: # Checks range variable for value on unsuccessful execution.\n",
    "                print(\"You have entered an invalid year! Please try again!\") \n",
    "            else: # Informs user that the function is terminating after 3 invalid entries.\n",
    "                print(\"Function terminates after three invalid entries!\")\n",
    "\n",
    "        return df_yr # Returns pandas dataframe on successful execution.\n",
    "\n",
    "    except UnboundLocalError:\n",
    "        print(\"No dataframe returned!\")\n",
    "    "
   ]
  },
  {
   "cell_type": "code",
   "execution_count": 50,
   "metadata": {},
   "outputs": [
    {
     "name": "stdout",
     "output_type": "stream",
     "text": [
      "           Date  Close    Volume  Open   High   Low Symbol  Year  Month  Day  Week Num  Day Num   Day Name\n",
      "1696 2015-12-31   2.87  11068230  2.97  3.010  2.87    AMD  2015     12   31        53        3   Thursday\n",
      "1697 2015-12-30   2.98  10046410  2.99  3.040  2.93    AMD  2015     12   30        53        2  Wednesday\n",
      "1698 2015-12-29   3.00  15292210  3.04  3.060  2.97    AMD  2015     12   29        53        1    Tuesday\n",
      "1699 2015-12-28   3.00  16048590  2.91  3.020  2.86    AMD  2015     12   28        53        0     Monday\n",
      "1700 2015-12-24   2.92  11900890  2.88  3.000  2.86    AMD  2015     12   24        52        3   Thursday\n",
      "...         ...    ...       ...   ...    ...   ...    ...   ...    ...  ...       ...      ...        ...\n",
      "1943 2015-01-08   2.61  11128830  2.59  2.645  2.56    AMD  2015      1    8         2        3   Thursday\n",
      "1944 2015-01-07   2.58  12373330  2.63  2.650  2.54    AMD  2015      1    7         2        2  Wednesday\n",
      "1945 2015-01-06   2.63  13916650  2.65  2.660  2.55    AMD  2015      1    6         2        1    Tuesday\n",
      "1946 2015-01-05   2.66   8836156  2.67  2.700  2.64    AMD  2015      1    5         2        0     Monday\n",
      "1947 2015-01-02   2.69   8308172  2.70  2.730  2.64    AMD  2015      1    2         1        4     Friday\n",
      "\n",
      "[252 rows x 13 columns]\n"
     ]
    }
   ],
   "source": [
    "df = filter_by_year()\n",
    "print(df)\n"
   ]
  }
 ],
 "metadata": {
  "kernelspec": {
   "display_name": "Python 3.10.6 64-bit",
   "language": "python",
   "name": "python3"
  },
  "language_info": {
   "codemirror_mode": {
    "name": "ipython",
    "version": 3
   },
   "file_extension": ".py",
   "mimetype": "text/x-python",
   "name": "python",
   "nbconvert_exporter": "python",
   "pygments_lexer": "ipython3",
   "version": "3.10.6"
  },
  "orig_nbformat": 4,
  "vscode": {
   "interpreter": {
    "hash": "aee8b7b246df8f9039afb4144a1f6fd8d2ca17a180786b69acc140d282b71a49"
   }
  }
 },
 "nbformat": 4,
 "nbformat_minor": 2
}
