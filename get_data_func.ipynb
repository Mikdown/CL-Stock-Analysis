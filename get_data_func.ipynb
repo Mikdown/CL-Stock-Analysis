{
 "cells": [
  {
   "cell_type": "code",
   "execution_count": null,
   "metadata": {},
   "outputs": [],
   "source": [
    "def get_data_local_csv():\n",
    "    \"\"\"\n",
    "    Request user input. Read in then clean/transform data from a local CSV file.\n",
    "\n",
    "    This function asks the user to imput a valid stock symbol from the list provided.\n",
    "    Valid symbols can be entered in lower, upper or mixed case. \n",
    "    It takes that input and reads in data from the corrosponding local .csv file. \n",
    "    It then cleans/transforms the data into a pandas dataframe.\n",
    "    The user only gets three attempts to enter a valid stock symbol from the list provided and \n",
    "    then the function terminates and returns a message.\n",
    "    If no corrosponding file is found the function terminates and returns a message.\n",
    "    \n",
    "\n",
    "    Parameters\n",
    "    ----------\n",
    "    None\n",
    "\n",
    "    Returns\n",
    "    -------\n",
    "    pandas dataframe\n",
    "\n",
    "    Examples\n",
    "    --------\n",
    "    MSFT, AAPL\n",
    "    \"\"\" \n",
    "\n",
    "    import pandas as pd\n",
    "    from datetime import date, datetime\n",
    "\n",
    "    pd.set_option('display.max_columns', 20)\n",
    "    pd.set_option('display.width', 1000)\n",
    "    \n",
    "    try: # Handles the condition of no dataframe returned (UnboundLocalError) due to no valid input after 3 attempts or file not found error.\n",
    "        try: # Handles the conditions of a either a valid or invalid input or a FileNotFound error.\n",
    "            for x in range(3): # Sets the input attempt range to 3 to avoid an infinite run condition.\n",
    "                symbols = ['AAPL', 'AMD', 'AMZN', 'CSCO', 'META', 'MSFT', 'NFLX', 'QCOM', 'SBUX', 'TSLA'] # List of valid stock symbols for input.\n",
    "                symbol = input(\"Please enter one of the following symbols!\" + str(symbols)).upper() # User input statement.\n",
    "                if symbol in symbols: # Checks for valid input.\n",
    "                    df = pd.read_csv('assets/HistoricalData_' + symbol + '.csv') # Read in data from local CSV file.\n",
    "                    df['Symbol'] = symbol # Adds the \"Symbol\" column to the dataframe.\n",
    "                    df['Open'] = df['Open'].str.replace(\"$\", '', regex=True).astype(float) # Removes the $ from the data in the column and sets type to float.\n",
    "                    df['High'] = df['High'].str.replace(\"$\", '', regex=True).astype(float) # Removes the $ from the data in the column and sets type to float.\n",
    "                    df['Low'] = df['Low'].str.replace(\"$\", '', regex=True).astype(float) # Removes the $ from the data in the column and sets type to float.\n",
    "                    df['Close/Last'] = df['Close/Last'].str.replace(\"$\", '', regex=True).astype(float) # Removes the $ from the data in the column and sets type to float.\n",
    "                    df.rename(columns={'Close/Last': 'Close'}, inplace=True) # Renames \"Close/Last\" column to \"Close\"\n",
    "                    df['Date'] = pd.to_datetime(df['Date']) # Sets \"Date\" column to type datetime.\n",
    "                    df['Year'] = df['Date'].dt.year # The next 6 rows seperates the \"Date\" column into it's individual components.\n",
    "                    df['Month'] = df['Date'].dt.month\n",
    "                    df['Day'] = df['Date'].dt.day\n",
    "                    df['Week Num'] = df.Date.apply(lambda x:x.isocalendar()[1])\n",
    "                    df['Day Num'] = df['Date'].dt.day_of_week\n",
    "                    df['Day Name'] = df['Date'].dt.day_name()\n",
    "                    break # Breaks loop on successful execution.\n",
    "                elif x < 2: # Checks range variable for value on unsuccessful execution.\n",
    "                    print(\"You have entered an invalid symbol! Please try again!\") \n",
    "                else: # Informs user that the function is terminating after 3 invalid entries.\n",
    "                    print(\"Function terminates after three invalid entries!\")\n",
    "                \n",
    "        except FileNotFoundError: \n",
    "            print(\"File Not Found!\")\n",
    "        return df # Returns pandas dataframe on successful execution.\n",
    "\n",
    "    except UnboundLocalError:\n",
    "        print(\"No dataframe returned!\")    "
   ]
  },
  {
   "cell_type": "code",
   "execution_count": null,
   "metadata": {},
   "outputs": [],
   "source": [
    "get_data_local_csv()"
   ]
  },
  {
   "cell_type": "code",
   "execution_count": null,
   "metadata": {},
   "outputs": [],
   "source": [
    "def filter_by_year():\n",
    "    \"\"\"\n",
    "    Requests user input. Reads in then cleans/transforms data from a local CSV file.\n",
    "\n",
    "    This function calls the get_data_local_csv() function and then asks the user to imput a valid year from the list provided. \n",
    "    It takes that input and filters the current dataframe. \n",
    "    The user only gets three attempts to enter a valid year from the list provided and \n",
    "    then the function terminates and returns a message.\n",
    "    If the datafram is not returned a message is printed.\n",
    "\n",
    "    Parameters\n",
    "    ----------\n",
    "    None\n",
    "\n",
    "    Returns\n",
    "    -------\n",
    "    pandas dataframe\n",
    "\n",
    "    Examples\n",
    "    --------\n",
    "    2012, 2022\n",
    "    \"\"\"\n",
    "\n",
    "    df = get_data_local_csv()\n",
    "    try:\n",
    "        for x in range(3): # Sets the input attempt range to 3 to avoid an infinite run condition.\n",
    "            years = ['2012', '2103', '2014', '2015', '2016', '2017', '2018', '2019', '2020', '2021', '2022'] # List of valid years for input.\n",
    "            year = input(\"Please enter one of the following years!\" + str(years)) # User input statement.\n",
    "            if year in years: # Checks for valid input.\n",
    "                is_year = df[\"Year\"] == int(year) # Filter dataframe to only requested year.\n",
    "                df_yr = df[is_year]\n",
    "                break # Breaks loop on successful execution.\n",
    "            elif x < 2: # Checks range variable for value on unsuccessful execution.\n",
    "                print(\"You have entered an invalid year! Please try again!\") \n",
    "            else: # Informs user that the function is terminating after 3 invalid entries.\n",
    "                print(\"Function terminates after three invalid entries!\")\n",
    "\n",
    "        return df_yr # Returns pandas dataframe on successful execution.\n",
    "\n",
    "    except UnboundLocalError:\n",
    "        print(\"No dataframe returned!\")  "
   ]
  },
  {
   "cell_type": "code",
   "execution_count": null,
   "metadata": {},
   "outputs": [],
   "source": [
    "filter_by_year()"
   ]
  },
  {
   "cell_type": "code",
   "execution_count": null,
   "metadata": {},
   "outputs": [],
   "source": [
    "def hist_calculations():\n",
    "    df = get_data_local_csv() # Reads in 10 years of historical data on selected symbol.\n",
    "    first_close = df['Close'].values[-1] # Retrieve values.\n",
    "    last_close = df['Close'].values[0]\n",
    "    historic_return = (((last_close - first_close) / first_close) * 100).round() # First calculation.\n",
    "    print(\"The historical rate of return is \" + \"%\" + str(historic_return))\n",
    "    avg_open = df['Open'].mean().round(2) # Second Calculation.\n",
    "    avg_close = df['Close'].mean().round(2) # Third Calculation.\n",
    "    avg_vol = df['Volume'].mean().round(2) # Fourth Calculation.\n",
    "    df['HL_Delta'] = df['High'] - df['Low'] \n",
    "    avg_delta = df[\"HL_Delta\"].mean().round(3) #Fifth Calculation\n",
    "    print(\"The average opening price is $\" + str(avg_open))\n",
    "    print(\"The average closing price is $\" + str(avg_close))\n",
    "    print(\"The average volume is \" + str(avg_vol))\n",
    "    print(\"The average difference between the High and Low price is $\" + str(avg_delta))\n",
    "    return df\n"
   ]
  },
  {
   "cell_type": "code",
   "execution_count": null,
   "metadata": {},
   "outputs": [],
   "source": [
    "hist_calculations()"
   ]
  },
  {
   "cell_type": "code",
   "execution_count": null,
   "metadata": {},
   "outputs": [],
   "source": [
    "def annual_calculations():\n",
    "    df = filter_by_year() # Reads in one year of historical data on selected symbol and year.\n",
    "    first_close = df['Close'].values[-1] # Retrieve values.\n",
    "    last_close = df['Close'].values[0]\n",
    "    annual_return = (((last_close - first_close) / first_close) * 100).round()# First calculation.\n",
    "    print(\"The annual rate of return is \" + \"%\" + str(annual_return))\n",
    "    avg_open = df['Open'].mean().round(2) # Second Calculation.\n",
    "    avg_close = df['Close'].mean().round(2) # Third Calculation.\n",
    "    avg_vol = df['Volume'].mean().round(2) # Fourth Calculation.\n",
    "    df['HL_Delta'] = df['High'] - df['Low']\n",
    "    avg_delta = df[\"HL_Delta\"].mean().round(3) #Fifth Calculation\n",
    "    print(\"The average opening price is $\" + str(avg_open))\n",
    "    print(\"The average closing price is $\" + str(avg_close))\n",
    "    print(\"The average volume is \" + str(avg_vol))\n",
    "    print(\"The average difference between the High and Low price is $\" + str(avg_delta))\n",
    "    return df"
   ]
  },
  {
   "cell_type": "code",
   "execution_count": null,
   "metadata": {},
   "outputs": [],
   "source": [
    "annual_calculations()"
   ]
  }
 ],
 "metadata": {
  "kernelspec": {
   "display_name": "Python 3.10.6 64-bit",
   "language": "python",
   "name": "python3"
  },
  "language_info": {
   "codemirror_mode": {
    "name": "ipython",
    "version": 3
   },
   "file_extension": ".py",
   "mimetype": "text/x-python",
   "name": "python",
   "nbconvert_exporter": "python",
   "pygments_lexer": "ipython3",
   "version": "3.10.6"
  },
  "orig_nbformat": 4,
  "vscode": {
   "interpreter": {
    "hash": "aee8b7b246df8f9039afb4144a1f6fd8d2ca17a180786b69acc140d282b71a49"
   }
  }
 },
 "nbformat": 4,
 "nbformat_minor": 2
}
