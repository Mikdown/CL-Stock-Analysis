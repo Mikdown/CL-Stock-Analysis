{
 "cells": [
  {
   "cell_type": "code",
   "execution_count": 19,
   "metadata": {},
   "outputs": [],
   "source": [
    "def get_data_local_csv():\n",
    "    \"\"\"\n",
    "    Request user input. Read in then clean/transform data from a local CSV file.\n",
    "\n",
    "    This function asks the user to imput a valid stock symbol from the list provided.\n",
    "    Valid symbols can be entered in lower, upper or mixed case. \n",
    "    It takes that input and reads in data from the corrosponding local .csv file. \n",
    "    It then cleans/transforms the data into a pandas dataframe.\n",
    "    The user only gets three attempts to enter a valid stock symbol from the list provided and \n",
    "    then the function terminates and returns a message.\n",
    "    If no corrosponding file is found the function terminates and returns a message.\n",
    "    \n",
    "\n",
    "    Parameters\n",
    "    ----------\n",
    "    None\n",
    "\n",
    "    Returns\n",
    "    -------\n",
    "    pandas dataframe\n",
    "\n",
    "    Examples\n",
    "    --------\n",
    "    MSFT, AAPL\n",
    "    \"\"\" \n",
    "\n",
    "    import pandas as pd\n",
    "    from datetime import date, datetime\n",
    "\n",
    "    pd.set_option('display.max_columns', 20)\n",
    "    pd.set_option('display.width', 1000)\n",
    "    \n",
    "    try: # Handles the condition of no dataframe returned (UnboundLocalError) due to no valid input after 3 attempts or file not found error.\n",
    "        try: # Handles the conditions of a either a valid or invalid input or a FileNotFound error.\n",
    "            for x in range(3): # Sets the input attempt range to 3 to avoid an infinite run condition.\n",
    "                symbols = ['AAPL', 'AMD', 'AMZN', 'CSCO', 'META', 'MSFT', 'NFLX', 'QCOM', 'SBUX', 'TSLA'] # List of valid stock symbols for input.\n",
    "                symbol = input(\"Please enter one of the following symbols!\" + str(symbols)).upper() # User input statement.\n",
    "                if symbol in symbols: # Checks for valid input.\n",
    "                    df = pd.read_csv('assets/HistoricalData_' + symbol + '.csv') # Read in data from local CSV file.\n",
    "                    df['Symbol'] = symbol # Adds the \"Symbol\" column to the dataframe.\n",
    "                    df['Open'] = df['Open'].str.replace(\"$\", '', regex=True).astype(float) # Removes the $ from the data in the column and sets type to float.\n",
    "                    df['High'] = df['High'].str.replace(\"$\", '', regex=True).astype(float) # Removes the $ from the data in the column and sets type to float.\n",
    "                    df['Low'] = df['Low'].str.replace(\"$\", '', regex=True).astype(float) # Removes the $ from the data in the column and sets type to float.\n",
    "                    df['Close/Last'] = df['Close/Last'].str.replace(\"$\", '', regex=True).astype(float) # Removes the $ from the data in the column and sets type to float.\n",
    "                    df.rename(columns={'Close/Last': 'Close'}, inplace=True) # Renames \"Close/Last\" column to \"Close\"\n",
    "                    df['Date'] = pd.to_datetime(df['Date']) # Sets \"Date\" column to type datetime.\n",
    "                    df['Year'] = df['Date'].dt.year # The next 6 rows seperates the \"Date\" column into it's individual components.\n",
    "                    df['Month'] = df['Date'].dt.month\n",
    "                    df['Day'] = df['Date'].dt.day\n",
    "                    df['Week Num'] = df.Date.apply(lambda x:x.isocalendar()[1])\n",
    "                    df['Day Num'] = df['Date'].dt.day_of_week\n",
    "                    df['Day Name'] = df['Date'].dt.day_name()\n",
    "                    break # Breaks loop on successful execution.\n",
    "                elif x < 2: # Checks range variable for value on unsuccessful execution.\n",
    "                    print(\"You have entered an invalid symbol! Please try again!\") \n",
    "                else: # Informs user that the function is terminating after 3 invalid entries.\n",
    "                    print(\"Function terminates after three invalid entries!\")\n",
    "                \n",
    "        except FileNotFoundError: \n",
    "            print(\"File Not Found!\")\n",
    "\n",
    "        return df # Returns pandas dataframe on successful execution.\n",
    "\n",
    "    except UnboundLocalError:\n",
    "        print(\"No dataframe returned!\")    "
   ]
  },
  {
   "cell_type": "code",
   "execution_count": 20,
   "metadata": {},
   "outputs": [
    {
     "name": "stdout",
     "output_type": "stream",
     "text": [
      "           Date     Close    Volume      Open      High       Low Symbol  Year  Month  Day  Week Num  Day Num   Day Name\n",
      "0    2022-09-27  282.9400  61925190  283.8400  288.6700  277.5100   TSLA  2022      9   27        39        1    Tuesday\n",
      "1    2022-09-26  276.0100  58076910  271.8300  284.0900  270.3100   TSLA  2022      9   26        39        0     Monday\n",
      "2    2022-09-23  275.3300  63748360  283.0900  284.5000  272.8200   TSLA  2022      9   23        38        4     Friday\n",
      "3    2022-09-22  288.5900  70545410  299.8600  301.2900  285.8200   TSLA  2022      9   22        38        3   Thursday\n",
      "4    2022-09-21  300.8000  62555660  308.2900  313.8000  300.6300   TSLA  2022      9   21        38        2  Wednesday\n",
      "...         ...       ...       ...       ...       ...       ...    ...   ...    ...  ...       ...      ...        ...\n",
      "2510 2012-10-04    1.9600  23118093    2.0000    2.0067    1.9100   TSLA  2012     10    4        40        3   Thursday\n",
      "2511 2012-10-03    1.9533  15745762    1.9833    1.9967    1.9493   TSLA  2012     10    3        40        2  Wednesday\n",
      "2512 2012-10-02    1.9867  10934530    1.9520    1.9927    1.9333   TSLA  2012     10    2        40        1    Tuesday\n",
      "2513 2012-10-01    1.9440  13264568    1.9667    1.9927    1.9333   TSLA  2012     10    1        40        0     Monday\n",
      "2514 2012-09-28    1.9520  65140302    1.9153    1.9927    1.9073   TSLA  2012      9   28        39        4     Friday\n",
      "\n",
      "[2515 rows x 13 columns]\n"
     ]
    }
   ],
   "source": [
    "df = get_data_local_csv()\n",
    "print(df)"
   ]
  },
  {
   "cell_type": "code",
   "execution_count": 21,
   "metadata": {},
   "outputs": [],
   "source": [
    "def filter_by_year():\n",
    "    \"\"\"\n",
    "    Requests user input. Reads in then cleans/transforms data from a local CSV file.\n",
    "\n",
    "    This function calls the get_data_local_csv() function and then asks the user to imput a valid year from the list provided. \n",
    "    It takes that input and filters the current dataframe. \n",
    "    The user only gets three attempts to enter a valid year from the list provided and \n",
    "    then the function terminates and returns a message.\n",
    "    If the datafram is not returned a message is printed.\n",
    "\n",
    "    Parameters\n",
    "    ----------\n",
    "    None\n",
    "\n",
    "    Returns\n",
    "    -------\n",
    "    pandas dataframe\n",
    "\n",
    "    Examples\n",
    "    --------\n",
    "    MSFT, AAPL\n",
    "    \"\"\"\n",
    "\n",
    "    df = get_data_local_csv()\n",
    "    try:\n",
    "        for x in range(3): # Sets the input attempt range to 3 to avoid an infinite run condition.\n",
    "            years = ['2012', '2103', '2014', '2015', '2016', '2017', '2018', '2019', '2020', '2021', '2022'] # List of valid years for input.\n",
    "            year = input(\"Please enter one of the following years!\" + str(years)) # User input statement.\n",
    "            if year in years: # Checks for valid input.\n",
    "                is_year = df[\"Year\"] == int(year) # Filter dataframe to only requested year.\n",
    "                df_yr = df[is_year]\n",
    "                break # Breaks loop on successful execution.\n",
    "            elif x < 2: # Checks range variable for value on unsuccessful execution.\n",
    "                print(\"You have entered an invalid year! Please try again!\") \n",
    "            else: # Informs user that the function is terminating after 3 invalid entries.\n",
    "                print(\"Function terminates after three invalid entries!\")\n",
    "\n",
    "        return df_yr # Returns pandas dataframe on successful execution.\n",
    "\n",
    "    except UnboundLocalError:\n",
    "        print(\"No dataframe returned!\")  "
   ]
  },
  {
   "cell_type": "code",
   "execution_count": 22,
   "metadata": {},
   "outputs": [
    {
     "name": "stdout",
     "output_type": "stream",
     "text": [
      "          Date     Close     Volume      Open      High       Low Symbol  Year  Month  Day  Week Num  Day Num   Day Name\n",
      "437 2020-12-31  235.2233  148949805  233.3300  239.5733  230.3733   TSLA  2020     12   31        53        3   Thursday\n",
      "438 2020-12-30  231.5933  128538073  224.0000  232.2000  222.7867   TSLA  2020     12   30        53        2  Wednesday\n",
      "439 2020-12-29  221.9966   68732437  220.3333  223.3000  218.3333   TSLA  2020     12   29        53        1    Tuesday\n",
      "440 2020-12-28  221.2300   96835690  224.8366  227.1333  220.2666   TSLA  2020     12   28        53        0     Monday\n",
      "441 2020-12-24  220.5900   68596717  214.3300  222.0300  213.6666   TSLA  2020     12   24        52        3   Thursday\n",
      "..         ...       ...        ...       ...       ...       ...    ...   ...    ...  ...       ...      ...        ...\n",
      "685 2020-01-08   32.8093  467990616   31.5800   33.2327   31.2153   TSLA  2020      1    8         2        2  Wednesday\n",
      "686 2020-01-07   31.2707  273136963   30.7600   31.4420   30.2237   TSLA  2020      1    7         2        1    Tuesday\n",
      "687 2020-01-06   30.1027  152362424   29.3647   30.1040   29.3333   TSLA  2020      1    6         2        0     Monday\n",
      "688 2020-01-03   29.5340  266920367   29.3667   30.2667   29.1280   TSLA  2020      1    3         1        4     Friday\n",
      "689 2020-01-02   28.6840  143375718   28.3000   28.7131   28.1140   TSLA  2020      1    2         1        3   Thursday\n",
      "\n",
      "[253 rows x 13 columns]\n"
     ]
    }
   ],
   "source": [
    "df = filter_by_year()\n",
    "print(df)"
   ]
  },
  {
   "cell_type": "code",
   "execution_count": 25,
   "metadata": {},
   "outputs": [
    {
     "name": "stdout",
     "output_type": "stream",
     "text": [
      "1439487.7049180327\n",
      "68.18861431411531\n",
      "68.17227956262427\n"
     ]
    }
   ],
   "source": [
    "df = get_data_local_csv() # Reads in 10 years of historical data on selected symbol.\n",
    "first_close = df['Close'].values[-1] # Retrieve values.\n",
    "last_close = df['Close'].values[0]\n",
    "historic_return = (((last_close - first_close) / first_close) * 100) * 100 # First calculation.\n",
    "print(historic_return)\n",
    "avg_open = df['Open'].mean() # Second Calculation.\n",
    "avg_close = df['Close'].mean() # Third Calculation.\n",
    "print(avg_open)\n",
    "print(avg_close)\n"
   ]
  }
 ],
 "metadata": {
  "kernelspec": {
   "display_name": "Python 3.10.6 64-bit",
   "language": "python",
   "name": "python3"
  },
  "language_info": {
   "codemirror_mode": {
    "name": "ipython",
    "version": 3
   },
   "file_extension": ".py",
   "mimetype": "text/x-python",
   "name": "python",
   "nbconvert_exporter": "python",
   "pygments_lexer": "ipython3",
   "version": "3.10.6"
  },
  "orig_nbformat": 4,
  "vscode": {
   "interpreter": {
    "hash": "aee8b7b246df8f9039afb4144a1f6fd8d2ca17a180786b69acc140d282b71a49"
   }
  }
 },
 "nbformat": 4,
 "nbformat_minor": 2
}
