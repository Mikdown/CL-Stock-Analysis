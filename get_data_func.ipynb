{
 "cells": [
  {
   "cell_type": "code",
   "execution_count": 28,
   "metadata": {},
   "outputs": [],
   "source": [
    "\n",
    "\n",
    "\n",
    "def get_data_local_csv():\n",
    "    \"\"\"\n",
    "    Request user input. Read in then clean/transform data from a local CSV file.\n",
    "\n",
    "    This function asks the user to imput a valid stock symbol from the list provided.\n",
    "    Valid symbols can be entered in lower, upper or mixed case. \n",
    "    It takes that input and reads in data from the corrosponding local .csv file. \n",
    "    It then cleans/transforms the data into a pandas dataframe.\n",
    "    The user only gets three attempts to enter a valid stock symbol from the list provided and \n",
    "        then the function terminates and returns a message.\n",
    "    If no corrosponding file is found the function terminates and returns a message.\n",
    "    \n",
    "\n",
    "    Parameters\n",
    "    ----------\n",
    "    None\n",
    "\n",
    "    Returns\n",
    "    -------\n",
    "    pandas dataframe\n",
    "\n",
    "    Examples\n",
    "    --------\n",
    "    MSFT, AAPL\n",
    "    \"\"\" \n",
    "\n",
    "    import pandas as pd\n",
    "    from datetime import date, datetime\n",
    "\n",
    "    pd.set_option('display.max_columns', 20)\n",
    "    pd.set_option('display.width', 1000)\n",
    "    \n",
    "    try: # Handles the condition of no dataframe returned (UnboundLocalError) due to no valid input after 3 attempts or file not found error.\n",
    "        try: # Handles the conditions of a either a valid or invalid input or a FileNotFound error.\n",
    "            for x in range(3): # Sets the input attempt range to 3 to avoid an infinite run condition.\n",
    "                symbols = ['AAPL', 'AMD', 'AMZN', 'CSCO', 'META', 'MSFT', 'NFLX', 'QCOM', 'SBUX', 'TSLA'] # List of valid stock symbols for input.\n",
    "                symbol = input(\"Please enter one of the following symbols!\" + str(symbols)).upper() # User input statement.\n",
    "                if symbol in symbols: # Checks for valid input.\n",
    "                    df = pd.read_csv('assets/HistoricalData_' + symbol + '.csv') # Read in data from local CSV file.\n",
    "                    df['Symbol'] = symbol # Adds the \"Symbol\" column to the dataframe.\n",
    "                    df['Open'] = df['Open'].str.replace(\"$\", '', regex=True).astype(float) # Removes the $ from the data in the column and sets type to float.\n",
    "                    df['High'] = df['High'].str.replace(\"$\", '', regex=True).astype(float) # Removes the $ from the data in the column and sets type to float.\n",
    "                    df['Low'] = df['Low'].str.replace(\"$\", '', regex=True).astype(float) # Removes the $ from the data in the column and sets type to float.\n",
    "                    df['Close/Last'] = df['Close/Last'].str.replace(\"$\", '', regex=True).astype(float) # Removes the $ from the data in the column and sets type to float.\n",
    "                    df.rename(columns={'Close/Last': 'Close'}, inplace=True) # Renames \"Close/Last\" column to \"Close\"\n",
    "                    df['Date'] = pd.to_datetime(df['Date']) # Sets \"Date\" column to type datetime.\n",
    "                    df['Year'] = df['Date'].dt.year\n",
    "                    df['Month'] = df['Date'].dt.month\n",
    "                    df['Day'] = df['Date'].dt.day\n",
    "                    df['Week Num'] = df.Date.apply(lambda x:x.isocalendar()[1])\n",
    "                    df['Day Num'] = df['Date'].dt.day_of_week\n",
    "                    df['Day Name'] = df['Date'].dt.day_name()\n",
    "                    break # Breaks loop on successful execution.\n",
    "                elif x < 2: # Checks range variable for value on unsuccessful execution.\n",
    "                    print(\"You have entered an invalid symbol! Please try again!\") \n",
    "                else: # Informs user that the function is terminating after 3 invalid entries.\n",
    "                    print(\"Function terminates after three invalid entries!\")\n",
    "                \n",
    "        except FileNotFoundError: \n",
    "            print(\"File Not Found!\")\n",
    "\n",
    "        return df # Returns pandas dataframe on successful execution.\n",
    "\n",
    "    except UnboundLocalError:\n",
    "        print(\"No dataframe returned!\")\n",
    "    \n",
    "    \n",
    "\n",
    "    \n",
    "\n",
    "    \n",
    "\n",
    "    "
   ]
  },
  {
   "cell_type": "code",
   "execution_count": 44,
   "metadata": {},
   "outputs": [],
   "source": [
    "def filter_by_year():\n",
    "    df = get_data_local_csv()\n",
    "    try:\n",
    "        for x in range(3): # Sets the input attempt range to 3 to avoid an infinite run condition.\n",
    "            years = ['2012', '2103', '2014', '2015', '2016', '2017', '2018', '2019', '2020', '2021', '2022'] # List of valid years for input.\n",
    "            year = input(\"Please enter one of the following years!\" + str(years)) # User input statement.\n",
    "            if year in years: # Checks for valid input.\n",
    "                is_year = df[\"Year\"] == int(year) # Filter dataframe to only requested year.\n",
    "                df_yr = df[is_year]\n",
    "                break # Breaks loop on successful execution.\n",
    "            elif x < 2: # Checks range variable for value on unsuccessful execution.\n",
    "                print(\"You have entered an invalid year! Please try again!\") \n",
    "            else: # Informs user that the function is terminating after 3 invalid entries.\n",
    "                print(\"Function terminates after three invalid entries!\")\n",
    "\n",
    "        return df_yr\n",
    "\n",
    "    except UnboundLocalError:\n",
    "        print(\"No dataframe returned!\")\n",
    "    \n",
    "    \n",
    "\n",
    "\n",
    "\n"
   ]
  },
  {
   "cell_type": "code",
   "execution_count": 46,
   "metadata": {},
   "outputs": [
    {
     "name": "stdout",
     "output_type": "stream",
     "text": [
      "          Date  Close     Volume   Open   High      Low Symbol  Year  Month  Day  Week Num  Day Num   Day Name\n",
      "690 2019-12-31  45.86   31791200  45.07  46.09  44.9223    AMD  2019     12   31         1        1    Tuesday\n",
      "691 2019-12-30  45.52   41235740  46.14  46.17  44.6600    AMD  2019     12   30         1        0     Monday\n",
      "692 2019-12-27  46.18   36624230  46.85  46.88  45.9750    AMD  2019     12   27        52        4     Friday\n",
      "693 2019-12-26  46.63   57712690  46.99  47.31  45.6600    AMD  2019     12   26        52        3   Thursday\n",
      "694 2019-12-24  46.54   44432190  46.10  46.61  45.7700    AMD  2019     12   24        52        1    Tuesday\n",
      "..         ...    ...        ...    ...    ...      ...    ...   ...    ...  ...       ...      ...        ...\n",
      "937 2019-01-08  20.75  117593000  21.19  21.20  19.6800    AMD  2019      1    8         2        1    Tuesday\n",
      "938 2019-01-07  20.57  106684100  19.44  20.68  19.0000    AMD  2019      1    7         2        0     Monday\n",
      "939 2019-01-04  19.00  111510800  17.55  19.07  17.4300    AMD  2019      1    4         1        4     Friday\n",
      "940 2019-01-03  17.05  117014500  18.42  18.68  16.9400    AMD  2019      1    3         1        3   Thursday\n",
      "941 2019-01-02  18.83   86497360  18.01  19.00  17.9800    AMD  2019      1    2         1        2  Wednesday\n",
      "\n",
      "[252 rows x 13 columns]\n"
     ]
    }
   ],
   "source": [
    "df = filter_by_year()\n",
    "print(df)\n",
    "\n"
   ]
  }
 ],
 "metadata": {
  "kernelspec": {
   "display_name": "Python 3.10.6 64-bit",
   "language": "python",
   "name": "python3"
  },
  "language_info": {
   "codemirror_mode": {
    "name": "ipython",
    "version": 3
   },
   "file_extension": ".py",
   "mimetype": "text/x-python",
   "name": "python",
   "nbconvert_exporter": "python",
   "pygments_lexer": "ipython3",
   "version": "3.10.6"
  },
  "orig_nbformat": 4,
  "vscode": {
   "interpreter": {
    "hash": "aee8b7b246df8f9039afb4144a1f6fd8d2ca17a180786b69acc140d282b71a49"
   }
  }
 },
 "nbformat": 4,
 "nbformat_minor": 2
}
