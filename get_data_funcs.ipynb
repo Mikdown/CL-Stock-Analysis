{
 "cells": [
  {
   "cell_type": "code",
   "execution_count": 57,
   "metadata": {},
   "outputs": [],
   "source": [
    "def get_data_local_csv():\n",
    "    \"\"\"\n",
    "    Enter stock symbol, import, clean/transform data from a local CSV file.\n",
    "\n",
    "    This function gives the user options for input then takes that input and reads in data from the corrosponding local .csv file. \n",
    "    It then cleans/transforms the data into a pandas dataframe.\n",
    "    The user only gets three oprtunities to enter a valid stock symbol from the list provided and then the function terminates. \n",
    "    Valid symbols can be entered in lower, upper or mixed case.\n",
    "\n",
    "    Parameters\n",
    "    ----------\n",
    "    Valid stock symbol.\n",
    "\n",
    "    Returns\n",
    "    -------\n",
    "    pandas dataframe\n",
    "\n",
    "    Examples\n",
    "    --------\n",
    "    MSFT, AAPL\n",
    "    \"\"\" \n",
    "    import pandas as pd\n",
    "  \n",
    "    \n",
    "    try:\n",
    "        for X in range(3):\n",
    "            symbols = ['AAPL', 'AMD', 'AMZN', 'CSCO', 'META', 'MSFT', 'NFLX', 'QCOM', 'SBUX', 'TSLA']\n",
    "            symbol = input(\"Please enter one of the following symbols!\" + str(symbols)).upper()\n",
    "            if symbol in symbols: \n",
    "                df = pd.read_csv('assets/HistoricalData_' + symbol + '.csv')\n",
    "                df['Symbol'] = symbol\n",
    "                df['Open'] = df['Open'].str.replace(\"$\", '', regex=True).astype(float)\n",
    "                df['High'] = df['High'].str.replace(\"$\", '', regex=True).astype(float)\n",
    "                df['Low'] = df['Low'].str.replace(\"$\", '', regex=True).astype(float)\n",
    "                df['Close/Last'] = df['Close/Last'].str.replace(\"$\", '', regex=True).astype(float)\n",
    "                df.rename(columns={'Close/Last': 'Close'}, inplace=True)\n",
    "                df['Date'] = pd.to_datetime(df['Date'])\n",
    "                break\n",
    "\n",
    "            elif X < 2:\n",
    "                 print(\"You have entered an invali symbol! Please try again!\")\n",
    "\n",
    "            else:\n",
    "                print(\"Function terminates after three invalid entries!\")\n",
    "               \n",
    "    except FileNotFoundError:\n",
    "        print(\"File Not Found!\")\n",
    " \n",
    "    return df\n",
    "    \n",
    "\n",
    "    \n",
    "\n",
    "    \n",
    "\n",
    "    "
   ]
  },
  {
   "cell_type": "code",
   "execution_count": 58,
   "metadata": {},
   "outputs": [
    {
     "name": "stdout",
     "output_type": "stream",
     "text": [
      "           Date   Close    Volume     Open    High     Low Symbol\n",
      "0    2022-09-27  236.41  27018730  239.980  241.80  234.50   MSFT\n",
      "1    2022-09-26  237.45  27694190  237.045  241.45  236.90   MSFT\n",
      "2    2022-09-23  237.92  34176050  239.540  241.13  235.20   MSFT\n",
      "3    2022-09-22  240.98  31061160  237.870  243.86  237.57   MSFT\n",
      "4    2022-09-21  238.95  28625560  244.270  247.66  238.90   MSFT\n",
      "...         ...     ...       ...      ...     ...     ...    ...\n",
      "2510 2012-10-04   30.03  43625820   29.970   30.03   29.57   MSFT\n",
      "2511 2012-10-03   29.86  46643520   29.750   29.99   29.67   MSFT\n",
      "2512 2012-10-02   29.66  42746840   29.680   29.89   29.50   MSFT\n",
      "2513 2012-10-01   29.49  53988480   29.810   29.98   29.42   MSFT\n",
      "2514 2012-09-28   29.76  54224570   30.180   30.26   29.74   MSFT\n",
      "\n",
      "[2515 rows x 7 columns]\n"
     ]
    }
   ],
   "source": [
    "df = get_data_local_csv()\n",
    "print(df)"
   ]
  }
 ],
 "metadata": {
  "kernelspec": {
   "display_name": "Python 3.10.6 64-bit",
   "language": "python",
   "name": "python3"
  },
  "language_info": {
   "codemirror_mode": {
    "name": "ipython",
    "version": 3
   },
   "file_extension": ".py",
   "mimetype": "text/x-python",
   "name": "python",
   "nbconvert_exporter": "python",
   "pygments_lexer": "ipython3",
   "version": "3.10.6"
  },
  "orig_nbformat": 4,
  "vscode": {
   "interpreter": {
    "hash": "aee8b7b246df8f9039afb4144a1f6fd8d2ca17a180786b69acc140d282b71a49"
   }
  }
 },
 "nbformat": 4,
 "nbformat_minor": 2
}
