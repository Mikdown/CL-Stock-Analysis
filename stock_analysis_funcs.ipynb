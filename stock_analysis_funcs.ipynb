{
 "cells": [
  {
   "cell_type": "markdown",
   "metadata": {},
   "source": [
    "<h1 align=\"center\">*** NOTE ***<h3>\n",
    "<h2 align=\"center\">Some of the cells in this notebook call functions which require user input!!!<h3>\n",
    "<h3 align=\"center\">If you select \"Run All\" from the menu bar then you will be prompted to input the requested information for each of those cells.<h3>\n",
    "\n",
    "### The input field provides the list of valid symbols and years to choose from and they are as follows: \n",
    "* Valid inputs for \"symbol\" are: (AAPL, AMD, AMZN, CSCO, META, MSFT, NFLX, QCOM, SBUX, TSLA)\n",
    "* Valid inputs for \"year\" are : (2012, 2013, 2014, 2015, 2016, 2017, 2018, 2019, 2020, 2021, 2022)\n",
    "\n",
    "### The following Markdown cells are provided to meet the following project requirement:\n",
    "1. Write markdown cells in Jupyter explaining your thought process and code.\n"
   ]
  },
  {
   "cell_type": "markdown",
   "metadata": {},
   "source": [
    "### The following cell performs the overall imports for the custom functions."
   ]
  },
  {
   "cell_type": "code",
   "execution_count": null,
   "metadata": {},
   "outputs": [],
   "source": [
    "import math\n",
    "from datetime import date, datetime\n",
    "\n",
    "import matplotlib.pyplot as plt\n",
    "import numpy as np\n",
    "import pandas as pd\n",
    "import seaborn as sbn\n",
    "\n",
    "pd.set_option('display.max_columns', 20)\n",
    "pd.set_option('display.width', 1000)"
   ]
  },
  {
   "cell_type": "markdown",
   "metadata": {},
   "source": [
    "### The following cell defines the function to read in ten years of historic stock data from the file associated with the user's input and returns a Pandas dataframe.\n",
    "<p> This function asks the user to enter a valid stock symbol from the list provided. Valid symbols can be entered in lower, upper or mixed case.  \n",
    "<br />It takes that input and reads in data from the corrosponding local .csv file. It then cleans/transforms the data into a pandas dataframe.\n",
    "<br />The user only gets three attempts to enter a valid stock symbol from the list provided and then the function terminates and returns a message.\n",
    "<br />If no corrosponding file is found the function terminates and returns a message.\n",
    "\n",
    "###It meets the following project requirements: \n",
    "1. Read in data from a local csv, excel file, json, or any other file type.\n",
    "2. Use custom functions or lambdas to perform specific operations to clean or manipulate your data, return those values, then use them in other parts of your project."
   ]
  },
  {
   "cell_type": "code",
   "execution_count": null,
   "metadata": {},
   "outputs": [],
   "source": [
    "def get_data_local_csv():\n",
    "    \"\"\"\n",
    "    Request user input. Read in then clean/transform data from a local CSV file.\n",
    "\n",
    "    This function asks the user to imput a valid stock symbol from the list provided.\n",
    "    Valid symbols can be entered in lower, upper or mixed case. \n",
    "    It takes that input and reads in data from the corrosponding local .csv file. \n",
    "    It then cleans/transforms the data into a pandas dataframe.\n",
    "    The user only gets three attempts to enter a valid stock symbol from the list provided and \n",
    "    then the function terminates and returns a message.\n",
    "    If no corrosponding file is found the function terminates and returns a message.\n",
    "    \n",
    "\n",
    "    Parameters\n",
    "    ----------\n",
    "    None\n",
    "\n",
    "    Returns\n",
    "    -------\n",
    "    pandas dataframe\n",
    "\n",
    "    Examples\n",
    "    --------\n",
    "    MSFT, AAPL\n",
    "    \"\"\" \n",
    "    \n",
    "    try: # Handles the condition of no dataframe returned (UnboundLocalError) due to no valid input after 3 attempts or file not found error.\n",
    "        try: # Handles the conditions of a either a valid or invalid input or a FileNotFound error.\n",
    "            for x in range(3): # Sets the input attempt range to 3 to avoid an infinite run condition.\n",
    "                symbols = ['AAPL', 'AMD', 'AMZN', 'CSCO', 'META', 'MSFT', 'NFLX', 'QCOM', 'SBUX', 'TSLA'] # List of valid stock symbols for input.\n",
    "                symbol = input(\"Please enter one of the following symbols!\" + str(symbols)).upper() # User input statement.\n",
    "                print(\"User selected \" + symbol)\n",
    "                if symbol in symbols: # Checks for valid input.\n",
    "                    df = pd.read_csv('assets/HistoricalData_' + symbol + '.csv') # Read in data from local CSV file.\n",
    "                    df['Symbol'] = symbol # Adds the \"Symbol\" column to the dataframe.\n",
    "                    df['Open'] = df['Open'].str.replace(\"$\", '', regex=True).astype(float) # Removes the $ from the data in the column and sets type to float.\n",
    "                    df['High'] = df['High'].str.replace(\"$\", '', regex=True).astype(float) # Removes the $ from the data in the column and sets type to float.\n",
    "                    df['Low'] = df['Low'].str.replace(\"$\", '', regex=True).astype(float) # Removes the $ from the data in the column and sets type to float.\n",
    "                    df['Close/Last'] = df['Close/Last'].str.replace(\"$\", '', regex=True).astype(float) # Removes the $ from the data in the column and sets type to float.\n",
    "                    df.rename(columns={'Close/Last': 'Close'}, inplace=True) # Renames \"Close/Last\" column to \"Close\"\n",
    "                    df['Date'] = pd.to_datetime(df['Date']) # Sets \"Date\" column to type datetime.\n",
    "                    df['Year'] = df['Date'].dt.year # The next 6 rows seperates the \"Date\" column into it's individual components.\n",
    "                    df['Month'] = df['Date'].dt.month\n",
    "                    df['Day'] = df['Date'].dt.day\n",
    "                    df['Week Num'] = df.Date.apply(lambda x:x.isocalendar()[1])\n",
    "                    df['Day Num'] = df['Date'].dt.day_of_week\n",
    "                    df['Day Name'] = df['Date'].dt.day_name()\n",
    "                    break # Breaks loop on successful execution.\n",
    "                elif x < 2: # Checks range variable for value on unsuccessful execution.\n",
    "                    print(\"You have entered an invalid symbol! Please try again!\") \n",
    "                else: # Informs user that the function is terminating after 3 invalid entries.\n",
    "                    print(\"Function terminates after three invalid entries!\")\n",
    "                \n",
    "        except FileNotFoundError: \n",
    "            print(\"File Not Found!\")\n",
    "        return df # Returns pandas dataframe on successful execution.\n",
    "\n",
    "    except UnboundLocalError:\n",
    "        print(\"No dataframe returned!\")    "
   ]
  },
  {
   "cell_type": "markdown",
   "metadata": {},
   "source": [
    "### The following cell defines the function to filter the dataframe by the symbol and year associated with the user's input.\n",
    "\n",
    "This function calls the get_data_local_csv() function and then asks the user to enter a valid symbol and year from the list provided. It takes that input and filters the current dataframe. \n",
    "<br />The user only gets three attempts to enter a valid year from the list provided then the function terminates and returns a message. If the dataframe is not returned a message is printed."
   ]
  },
  {
   "cell_type": "code",
   "execution_count": null,
   "metadata": {},
   "outputs": [],
   "source": [
    "def filter_by_year():\n",
    "    \"\"\"\n",
    "    Requests user input. Reads in then cleans/transforms data from a local CSV file.\n",
    "\n",
    "    This function calls the get_data_local_csv() function and then asks the user to imput a valid symbol and year from the list provided. \n",
    "    It takes that input and filters the current dataframe. \n",
    "    The user only gets three attempts to enter a valid year from the list provided and \n",
    "    then the function terminates and returns a message.\n",
    "    If the dataframe is not returned a message is printed.\n",
    "\n",
    "    Parameters\n",
    "    ----------\n",
    "    None\n",
    "\n",
    "    Returns\n",
    "    -------\n",
    "    pandas dataframe\n",
    "\n",
    "    Examples\n",
    "    --------\n",
    "    2012, 2022\n",
    "    \"\"\"\n",
    "\n",
    "    df = get_data_local_csv()\n",
    "    try:\n",
    "        for x in range(3): # Sets the input attempt range to 3 to avoid an infinite run condition.\n",
    "            years = ['2012', '2013', '2014', '2015', '2016', '2017', '2018', '2019', '2020', '2021', '2022'] # List of valid years for input.\n",
    "            year = input(\"Please enter one of the following years!\" + str(years)) # User input statement.\n",
    "            print(\"User selected \" + year)\n",
    "            if year in years: # Checks for valid input.\n",
    "                is_year = df[\"Year\"] == int(year) # Filter dataframe to only requested year.\n",
    "                df_yr = df[is_year]\n",
    "                break # Breaks loop on successful execution.\n",
    "            elif x < 2: # Checks range variable for value on unsuccessful execution.\n",
    "                print(\"You have entered an invalid year! Please try again!\") \n",
    "            else: # Informs user that the function is terminating after 3 invalid entries.\n",
    "                print(\"Function terminates after three invalid entries!\")\n",
    "\n",
    "        return df_yr # Returns pandas dataframe on successful execution.\n",
    "\n",
    "    except UnboundLocalError:\n",
    "        print(\"No dataframe returned!\")  "
   ]
  },
  {
   "cell_type": "markdown",
   "metadata": {},
   "source": [
    "### The following cell defines the function to read in ten years of historic stock data from the file associated with the user's input, creates a Pandas dataframe, performs specific calculations on the data and prints the results.\n",
    "### It meets the following project requirements:\n",
    "1. Do 5 basic calculations with Pandas, like finding the sum(), median(), mean(), or mode() of a column.\n",
    "2. Write custom functions to operate on your data."
   ]
  },
  {
   "cell_type": "code",
   "execution_count": null,
   "metadata": {},
   "outputs": [],
   "source": [
    "def hist_calc():\n",
    "    \"\"\"\n",
    "    Request user input. Read in then clean/transform/calculate data from a local CSV file.\n",
    "\n",
    "    This function asks the user to imput a valid stock symbol from the list provided.\n",
    "    Valid symbols can be entered in lower, upper or mixed case. \n",
    "    It takes that input and reads in data from the corrosponding local .csv file. \n",
    "    It then cleans/transforms the data into a pandas dataframe, performs specific calculations\n",
    "    and prints the result.\n",
    "    The user only gets three attempts to enter a valid stock symbol from the list provided and \n",
    "    then the function terminates and returns a message.\n",
    "    If no corrosponding file is found the function terminates and returns a message.\n",
    "    \n",
    "\n",
    "    Parameters\n",
    "    ----------\n",
    "    None\n",
    "\n",
    "    Returns\n",
    "    -------\n",
    "    pandas dataframe\n",
    "\n",
    "    Examples\n",
    "    --------\n",
    "    MSFT, AAPL\n",
    "    \"\"\"\n",
    "    \n",
    "    df = get_data_local_csv() # Reads in 10 years of historical data on selected symbol.\n",
    "    first_close = df['Close'].values[-1] # Retrieve values.\n",
    "    last_close = df['Close'].values[0]\n",
    "    historic_return = (((last_close - first_close) / first_close) * 100).round() # First calculation.\n",
    "    print(\"The historical rate of return is \" + \"%\" + str(historic_return))\n",
    "    avg_open = df['Open'].mean()# Second Calculation.\n",
    "    avg_close = df['Close'].mean()# Third Calculation.\n",
    "    avg_vol = df['Volume'].mean()# Fourth Calculation.\n",
    "    df['HL_Delta'] = df['High'] - df['Low'] \n",
    "    avg_delta = df[\"HL_Delta\"].mean()#Fifth Calculation\n",
    "    result1 = round(avg_open, 2)\n",
    "    result2 = round(avg_close, 2)\n",
    "    result3 = round(avg_vol, 2)\n",
    "    result4 = round(avg_delta, 2)\n",
    "    print(\"The average opening price is $\" + str(result1))\n",
    "    print(\"The average closing price is $\" + str(result2))\n",
    "    print(\"The average volume is \" + str(result3))\n",
    "    print(\"The average difference between the High and Low price is $\" + str(result4))\n",
    "    return df"
   ]
  },
  {
   "cell_type": "markdown",
   "metadata": {},
   "source": [
    "### The following cell defines the function to read in one year of historic stock data from the file associated with the user's input, creates a Pandas dataframe, performs specific calculations on the data and prints the results."
   ]
  },
  {
   "cell_type": "code",
   "execution_count": null,
   "metadata": {},
   "outputs": [],
   "source": [
    "def annual_calc():\n",
    "    \"\"\"\n",
    "    Request user input. Read in then clean/transform/calcualte data from a local CSV file.\n",
    "\n",
    "    This function asks the user to imput a valid stock symbol and year from the lists provided.\n",
    "    Valid symbols can be entered in lower, upper or mixed case.\n",
    "    It takes that input and reads in data from the corrosponding local .csv file. \n",
    "    It then cleans/transforms the data into a pandas dataframe, performs specific calculations\n",
    "    and prints the result.\n",
    "    The user only gets three attempts to enter a valid stock symbol from the list provided and \n",
    "    then the function terminates and returns a message.\n",
    "    If no corrosponding file is found the function terminates and returns a message.\n",
    "    \n",
    "\n",
    "    Parameters\n",
    "    ----------\n",
    "    None\n",
    "\n",
    "    Returns\n",
    "    -------\n",
    "    pandas dataframe\n",
    "\n",
    "    Examples\n",
    "    --------\n",
    "    MSFT, AAPL\n",
    "    \"\"\"\n",
    "    \n",
    "    df = filter_by_year() # Reads in one year of historical data on selected symbol and year.\n",
    "    first_close = df['Close'].values[-1] # Retrieve values.\n",
    "    last_close = df['Close'].values[0]\n",
    "    annual_return = (((last_close - first_close) / first_close) * 100).round()# First calculation.\n",
    "    print(\"The annual rate of return is \" + \"%\" + str(annual_return))\n",
    "    avg_open = df['Open'].mean()# Second Calculation.\n",
    "    avg_close = df['Close'].mean()# Third Calculation.\n",
    "    avg_vol = df['Volume'].mean()# Fourth Calculation.\n",
    "    df['HL_Delta'] = df['High'] - df['Low'] \n",
    "    avg_delta = df[\"HL_Delta\"].mean()#Fifth Calculation\n",
    "    result1 = round(avg_open, 2)\n",
    "    result2 = round(avg_close, 2)\n",
    "    result3 = round(avg_vol, 2)\n",
    "    result4 = round(avg_delta, 2)\n",
    "    print(\"The average opening price is $\" + str(result1))\n",
    "    print(\"The average closing price is $\" + str(result2))\n",
    "    print(\"The average volume is \" + str(result3))\n",
    "    print(\"The average difference between the High and Low price is $\" + str(result4))\n",
    "    return df"
   ]
  },
  {
   "cell_type": "markdown",
   "metadata": {},
   "source": [
    "### The following cel defines a function which plots price to volume data points associated with the ten year historical data associated with the symbol entered by the user.\n",
    "### It meets the following project requirements:\n",
    "1. Make 2 basic plots with matplotlib, seaborn, or any other kind of visualization library that you think looks interesting."
   ]
  },
  {
   "cell_type": "code",
   "execution_count": null,
   "metadata": {},
   "outputs": [],
   "source": [
    "def plot_hist_price_vol():\n",
    "\n",
    "    df = hist_calc()\n",
    "    # Create the format dictionaries for plots:\n",
    "    colors = {'red': '#ff207c', 'grey': '#42535b', 'blue': '#207cff', 'orange': '#ffa320', 'green': '#3CB371'}\n",
    "    config_ticks = {'size': 14, 'color': colors['grey'], 'labelcolor': colors['grey']}\n",
    "    config_title = {'size': 20, 'color': colors['green'], 'ha': 'center', 'va': 'top'}\n",
    "    \n",
    "    fig, axes = plt.subplots(2, 1, gridspec_kw={'height_ratios': [3, 2]}) # Sets size ratio between plots.\n",
    "    fig.tight_layout(pad=3)\n",
    "\n",
    "    plt.rc('figure', figsize=(40, 20)) # Sets plot size overall.\n",
    "\n",
    "    plt.title('Historical Price to Volume', fontdict=config_title) # Creates plot title.\n",
    "    \n",
    "    # Creats variables with data points for plotting:\n",
    "    date = df['Date']\n",
    "    close = df['Close']\n",
    "    vol = df['Volume']\n",
    "    \n",
    "    # Formats top plot:\n",
    "    plot_price = axes[0]\n",
    "    plot_price.plot(date, close, color=colors['blue'], linewidth=2, label='Price')\n",
    "    \n",
    "    # Formats bottom plot:\n",
    "    plot_vol = axes[1]\n",
    "    plot_vol.bar(date, vol, width=15, color='darkgrey')\n",
    "\n",
    "    # Sets axis parameters for top plot:\n",
    "    plot_price.yaxis.tick_right()\n",
    "    plot_price.tick_params(axis='both', **config_ticks)\n",
    "    plot_price.set_ylabel('Price (in USD)', fontsize=20)\n",
    "    plot_price.yaxis.set_label_position(\"right\")\n",
    "    plot_price.yaxis.label.set_color(colors['grey'])\n",
    "    plot_price.grid(axis='y', color='gainsboro', \n",
    "    linestyle='-', linewidth=1.0)\n",
    "    plot_price.set_axisbelow(True)\n",
    "    \n",
    "    # Sets axis parameters for bottom plot:\n",
    "    plot_vol.yaxis.tick_right()\n",
    "    plot_vol.tick_params(axis='both', **config_ticks)\n",
    "    plot_vol.set_ylabel('Volume (in Millions)', fontsize=20)\n",
    "    plot_vol.yaxis.set_label_position(\"right\")\n",
    "    plot_vol.yaxis.label.set_color(colors['grey'])\n",
    "    plot_vol.grid(axis='y', color='gainsboro', \n",
    "    linestyle='-', linewidth=1.0)\n",
    "    plot_vol.set_axisbelow(True)\n",
    "    \n",
    "    return\n",
    "\n",
    "    "
   ]
  },
  {
   "cell_type": "markdown",
   "metadata": {},
   "source": [
    "### The following cell simply calls the plot_hist_price_vol() function."
   ]
  },
  {
   "cell_type": "code",
   "execution_count": null,
   "metadata": {},
   "outputs": [],
   "source": [
    "plot_hist_price_vol()"
   ]
  },
  {
   "cell_type": "markdown",
   "metadata": {},
   "source": [
    "### The following cel defines a function which plots annual Open, High, Low, and Close data points associated with the symbol and year entered by the user.\n",
    "### It meets the following project requirements:\n",
    "1. Make 2 basic plots with matplotlib, seaborn, or any other kind of visualization library that you think looks interesting."
   ]
  },
  {
   "cell_type": "code",
   "execution_count": null,
   "metadata": {},
   "outputs": [],
   "source": [
    "def plot_annual_ohlc():\n",
    "    \n",
    "    df = annual_calc()\n",
    "\n",
    "    df.reset_index(inplace=True)\n",
    "\n",
    "    # Creates NumPy array to plot multiple values on one bar.\n",
    "    x = np.arange(0,len(df))\n",
    "    fig, ax = plt.subplots(1, figsize=(40,15))\n",
    "    for idx, val in df.iterrows():\n",
    "        plt.plot([x[idx], x[idx]], [val['Low'], val['High']])\n",
    "        plt.plot([x[idx], x[idx]-0.1], \n",
    "             [val['Open'], val['Open']], \n",
    "             color='black')\n",
    "    plt.plot([x[idx], x[idx]+0.1], \n",
    "             [val['Close'], val['Close']], \n",
    "             color='black')\n",
    "\n",
    "    #Sets plot title and labels:\n",
    "    plt.title(\"One Year OHLC\", fontsize=24)\n",
    "    plt.xlabel(\"Date\", fontsize=24)\n",
    "    plt.ylabel(\"OHLC\", fontsize=24)\n",
    "\n",
    "    # Sets index from oldest to newest date.\n",
    "    plt.xlim(df.index[-1], df.index[0])\n",
    "\n",
    "    # Sets x axis ticks.\n",
    "    plt.xticks(x[::10], df.Date.dt.date[::10], fontsize= 14, rotation= 45)\n",
    "\n",
    "    plt.show()\n",
    "    \n",
    "    \n",
    "\n",
    "    "
   ]
  },
  {
   "cell_type": "markdown",
   "metadata": {},
   "source": [
    "### The following cell simply calls the plot_annual_ohlc() function."
   ]
  },
  {
   "cell_type": "code",
   "execution_count": null,
   "metadata": {},
   "outputs": [],
   "source": [
    "plot_annual_ohlc()"
   ]
  },
  {
   "cell_type": "markdown",
   "metadata": {},
   "source": [
    "### The following cel defines a function which plots the one year daily delta between the  high and low price data points associated with the symbol and year entered by the user.\n",
    "### It meets the following project requirements:\n",
    "1. Make 2 basic plots with matplotlib, seaborn, or any other kind of visualization library that you think looks interesting."
   ]
  },
  {
   "cell_type": "code",
   "execution_count": null,
   "metadata": {},
   "outputs": [],
   "source": [
    "def plot_annual_calc():\n",
    "    \n",
    "    df = annual_calc()\n",
    "    fig, ax = plt.subplots(figsize=(40, 20))\n",
    "    sbn.set(font_scale= 2)\n",
    "    sbn.lineplot(data=df, x=\"Date\", y=\"HL_Delta\").set(title= \"High Low Delta\")\n",
    "    plt.xlabel(\"Date\", fontsize= 24)\n",
    "    plt.ylabel(\"HL Delta\", fontsize= 24)\n",
    "    return"
   ]
  },
  {
   "cell_type": "markdown",
   "metadata": {},
   "source": [
    "### The following cell simply calls the plot_annual_calc() function."
   ]
  },
  {
   "cell_type": "code",
   "execution_count": null,
   "metadata": {},
   "outputs": [],
   "source": [
    "plot_annual_calc()"
   ]
  }
 ],
 "metadata": {
  "kernelspec": {
   "display_name": "Python 3.10.6 64-bit",
   "language": "python",
   "name": "python3"
  },
  "language_info": {
   "codemirror_mode": {
    "name": "ipython",
    "version": 3
   },
   "file_extension": ".py",
   "mimetype": "text/x-python",
   "name": "python",
   "nbconvert_exporter": "python",
   "pygments_lexer": "ipython3",
   "version": "3.10.6"
  },
  "orig_nbformat": 4,
  "vscode": {
   "interpreter": {
    "hash": "aee8b7b246df8f9039afb4144a1f6fd8d2ca17a180786b69acc140d282b71a49"
   }
  }
 },
 "nbformat": 4,
 "nbformat_minor": 2
}
